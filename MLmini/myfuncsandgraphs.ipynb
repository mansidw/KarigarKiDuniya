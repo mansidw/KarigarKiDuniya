punctuation

train1.dtypes

train1.price.describe()

#########################################################################################################################################################
#########################################################################################################################################################
#########################################################################################################################################################
##########################################                     PRICES AND COUNTS                 ########################################################
#########################################################################################################################################################
#########################################################################################################################################################
#########################################################################################################################################################

####### checking price across samples   ########
plt.figure(figsize=(12,7))
plt.hist(train1['price'], bins=500, range=[0,25500], label='price')
plt.title('Price Distribution', fontsize=15)
plt.xlabel('Price', fontsize=15)
plt.ylabel('Samples', fontsize=15)
plt.xticks(fontsize=15)
plt.yticks(fontsize=15)
plt.legend(fontsize=15)
plt.show()

bins = [0, 500,1000,1500,2000,10000]
labels = ['q1','q2','q3','q4','q5']
train1['price_bin'] = pd.cut(train1['price'], bins=bins, labels=labels)
train1.groupby('price_bin')['price'].describe()

########################################################################################################################################################
########################################################################################################################################################
########################################################################################################################################################
##########################################                     SHIPPING                      ###########################################################
########################################################################################################################################################
########################################################################################################################################################
########################################################################################################################################################



########################################################################################################################################################
########################################################################################################################################################
########################################################################################################################################################
##########################################                     SIZES                       #############################################################
########################################################################################################################################################
########################################################################################################################################################
########################################################################################################################################################

train1['size'].nunique()

# Top 20 Size Distribution inventory wise
top20size= train1['size'].value_counts()[0:20].reset_index().rename(columns={'index': 'size', 'size':'count'})
ax = sns.barplot(x="size", y="count", data=top20size)
ax.set_xticklabels(ax.get_xticklabels(),rotation=90)
ax.set_title('Top 20 size Distribution', fontsize=15)
plt.show()

# Display Top 20 sizes By Mean Price
top20_size= train1.groupby('size', axis=0).mean()
df_expsize= pd.DataFrame(top20_size.sort_values('price', ascending = False)['price'][0:20].reset_index())

ax = sns.barplot(x="size", y="price", data=df_expsize)
ax.set_xticklabels(ax.get_xticklabels(),rotation=90, fontsize=15)
ax.set_title('Top 20 famous size price wise', fontsize=15)
plt.xticks(fontsize=15)
plt.yticks(fontsize=15)
plt.show()  # Display frequency ratio of brand names

sizes=np.unique(train1['size'])
print(sizes)

train1.head()

########################################################################################################################################################
########################################################################################################################################################
########################################################################################################################################################
##########################################                     BRAND                       #############################################################
########################################################################################################################################################
########################################################################################################################################################
########################################################################################################################################################

# Amount of unique brand names
train1['brand'].nunique()

# Top 20 Brand Distribution inventory wise
top20brand= train1['brand'].value_counts()[0:20].reset_index().rename(columns={'index': 'brand', 'brand':'count'})
ax = sns.barplot(x="brand", y="count", data=top20brand)
ax.set_xticklabels(ax.get_xticklabels(),rotation=90)
ax.set_title('Top 20 Brand Distribution', fontsize=15)
plt.show()

# Display Top 20 Expensive Brands By Mean Price
top20_brand = train1.groupby('brand', axis=0).mean()
df_expPrice = pd.DataFrame(top20_brand.sort_values('price', ascending = False)['price'][0:20].reset_index())

ax = sns.barplot(x="brand", y="price", data=df_expPrice)
ax.set_xticklabels(ax.get_xticklabels(),rotation=90, fontsize=15)
ax.set_title('Top 20 Expensive Brand', fontsize=15)
plt.xticks(fontsize=15)
plt.yticks(fontsize=15)
plt.show()  # Display frequency ratio of brand names

######### brand order freq wise  #####
train1['brand'].value_counts(normalize=True).head()

########################################################################################################################################################
########################################################################################################################################################
########################################################################################################################################################
##########################################                       MATERIAL                      #########################################################
########################################################################################################################################################
########################################################################################################################################################
########################################################################################################################################################

train1['dominant_material'].nunique()

def capitalize(s):
    return (s.capitalize())
train1['dominant_material']=train1['dominant_material'].astype(str).apply(capitalize)

mate=np.unique(train1['dominant_material'].sort_values())
print(mate)

# Top 20 dominant_material Distribution inventory wise
top20mat= train1['dominant_material'].value_counts()[0:20].reset_index().rename(columns={'index': 'dominant_material', 'dominant_material':'count'})
ax = sns.barplot(x="dominant_material", y="count", data=top20mat)
ax.set_xticklabels(ax.get_xticklabels(),rotation=90)
ax.set_title('Top 20 Material Distribution', fontsize=15)
plt.show()

# Display Top 20 material By Mean Price
top20_mat = train1.groupby('dominant_material', axis=0).mean()
df_expmat = pd.DataFrame(top20_mat.sort_values('price', ascending = False)['price'][0:20].reset_index())

ax = sns.barplot(x="dominant_material", y="price", data=df_expmat)
ax.set_xticklabels(ax.get_xticklabels(),rotation=90, fontsize=15)
ax.set_title('Top 20 Material Brand', fontsize=15)
plt.xticks(fontsize=15)
plt.yticks(fontsize=15)
plt.show()  # Display frequency ratio of brand names

#########################################################################################################################################################
#########################################################################################################################################################
#########################################################################################################################################################
##########################################                      COLOR                         ###########################################################
#########################################################################################################################################################
#########################################################################################################################################################
#########################################################################################################################################################

train1['dominant_color'].nunique()

col=np.unique(train1['dominant_color'].astype(str).sort_values())
print(col)

# Top 20 dominant_color Distribution inventory wise

top20col= train1['dominant_color'].value_counts()[0:20].reset_index().rename(columns={'index': 'dominant_color', 'dominant_color':'count'})
ax = sns.barplot(x="dominant_color", y="count", data=top20col)
ax.set_xticklabels(ax.get_xticklabels(),rotation=90)
ax.set_title('Top 20 Color Distribution', fontsize=15)
plt.show()

# Display Top 20 material By Mean Price
top20_col = train1.groupby('dominant_color', axis=0).mean()
df_expcol = pd.DataFrame(top20_col.sort_values('price', ascending = False)['price'][0:20].reset_index())

ax = sns.barplot(x="dominant_color", y="price", data=df_expcol)
ax.set_xticklabels(ax.get_xticklabels(),rotation=90, fontsize=15)
ax.set_title('Top 20 Color', fontsize=15)
plt.xticks(fontsize=15)
plt.yticks(fontsize=15)
plt.show()  # Display frequency ratio of brand names


#########################################################################################################################################################
#########################################################################################################################################################
#########################################################################################################################################################
##########################################                     PRODUCT TYPE                   ###########################################################
#########################################################################################################################################################
#########################################################################################################################################################
#########################################################################################################################################################

train1['product_type'].nunique()

pro=np.unique(train1['product_type'].astype('str'))
print(pro)

# Top 20 product_type Distribution inventory wise

top20pro= train1['product_type'].value_counts()[0:20].reset_index().rename(columns={'index': 'product_type', 'product_type':'count'})
ax = sns.barplot(x="product_type", y="count", data=top20pro)
ax.set_xticklabels(ax.get_xticklabels(),rotation=90)
ax.set_title('Top 20 Product type wise Distribution', fontsize=15)
plt.show()

# Display Top 20 material By Mean Price
top20_pro = train1.groupby('product_type', axis=0).mean()
df_exppro = pd.DataFrame(top20_pro.sort_values('price', ascending = False)['price'][0:20].reset_index())

ax = sns.barplot(x="product_type", y="price", data=df_exppro)
ax.set_xticklabels(ax.get_xticklabels(),rotation=90, fontsize=15)
ax.set_title('Top 20 Product_type Price Wise', fontsize=15)
plt.xticks(fontsize=15)
plt.yticks(fontsize=15)
plt.show()  # Display frequency ratio of brand names


#########################################################################################################################################################
#########################################################################################################################################################
#########################################################################################################################################################
##########################################                     CATEGORIES                    ############################################################
#########################################################################################################################################################
#########################################################################################################################################################
#########################################################################################################################################################

#############  category wise distribution  ###########

def transform_category_name(category):
    try:
        main, sub1, sub2= category.split('/')
        return main, sub1, sub2
    except:
        return np.nan, np.nan, np.nan

train1['category'], train1['category_sub1'], train1['category_sub2'] = zip(*train1['category'].apply(transform_category_name))
cat_train = train1[['category','category_sub1','category_sub2', 'price']]
cat_train.head()

cat_train['category'].value_counts()

cat_train['category_sub1'].value_counts()

cat_train['category_sub2'].value_counts()

train1.groupby('category')['price'].describe()

###########   plotting category wise distribution   ########

plt.figure(figsize=(17,10))
sns.countplot(y = train1['category'], order = train1['category'].value_counts().index, orient = 'v')
plt.title('Top Categories', fontsize = 25)
plt.ylabel('Main Category', fontsize = 20)
plt.xlabel('Number of Items in Main Category', fontsize = 20)
plt.show()

#main = pd.DataFrame(cat_train['category_main'].value_counts()).reset_index().rename(columns={'index': 'main', 'category_main':'count'})
fig, axes = plt.subplots(figsize=(12, 7))
main = cat_train[cat_train["price"]<5000]
# Use a color palette
ax = sns.boxplot( x=main["category"], y=main["price"], palette="Set3")
ax.set_xticklabels(ax.get_xticklabels(),rotation=90, fontsize=12)
plt.show()

df = cat_train.groupby(['category_sub2'])['price'].agg(['mean']).reset_index().rename(columns={'index': 'main', 'category_main':'count'})
df= df.sort_values('mean', ascending=False).head(20)

plt.figure(figsize=(20, 15))
plt.barh(range(0,len(df)), df['mean'], align='center', alpha=0.5, color='r')
plt.yticks(range(0,len(df)), df['category_sub2'], fontsize=15)

plt.xlabel('Price', fontsize=15)
plt.ylabel('Sub Category 2', fontsize=15)
plt.title('Top 20 2nd Category (Mean Price)', fontsize=20)
plt.show()

df = cat_train.groupby(['category_sub1'])['price'].agg(['mean']).reset_index().rename(columns={'index': 'main', 'category_main':'count'})
df= df.sort_values('mean', ascending=False)[0:20]

plt.figure(figsize=(15, 6))
plt.barh(range(0,len(df)), df['mean'], align='center', alpha=0.5, color='b')
plt.yticks(range(0,len(df)), df['category_sub1'], fontsize=15)

plt.xlabel('Price', fontsize=15)
plt.ylabel('Sub Category 1', fontsize=15)
plt.title('Top 20 1st Category (Mean Price)', fontsize=20)
plt.show()


################## Create a "no_brand" column  Timepass since we don't have missing brand values  ######################
#train1['no_brand'] = train1['brand'].isnull()
#f, ax = plt.subplots(figsize=(15, 4))
#sns.countplot(y='category', hue='no_brand', data=train1).set_title('Category Distribution With/Without Brand');
#plt.show()
#train1.drop('no_brand',axis='columns', inplace=True)
#train1.head()



################        I am on 3d

train1.product_details = train1.product_details.astype(str)

descr = train1[['product_details', 'price']]
descr['count'] = descr['product_details'].apply(lambda x : len(str(x)))

descr['product_details'] = descr['product_details'].apply(remove_digits)
descr['product_details'] = descr['product_details'].apply(remove_punctuation)
descr['product_details'] = descr['product_details'].apply(remove_stop_words)

descr.head(5)

from nltk.stem.porter import PorterStemmer
porter = PorterStemmer()
descr['product_details'] = descr['product_details'].apply(porter.stem)
descr.head(10)

df = descr.groupby('count')['price'].mean().reset_index()
sns.regplot(x=df["count"], y=(df["price"]))
plt.xlabel("word count")
plt.show()





traine = {'name':[""],'shipping':[""],'product_details':[""],'brand':[""],'category':[""],'size':[""],'color':[""],'material':[""],'product_type':[""]}
traine['name']=["Global Desi Mustard Printed Tunic"]
traine['shipping']=["1"]
traine['product_details']=["Taking the bright colours of summer and nature, Global Desi inspires the Women of style and substance to experiment with a range of colours from sophisticated black to subtle pastels and vibrant shades. So match the shade to your personality! Mix and match from a variety of colours and prints for a feminine look, or a modern twist."]
traine['brand']=["Global Desi"]
traine['category']=["Clothing"]
traine['size']=["XXL"]
traine['color']=["Mustard"]
traine['material']=["viscose"]
traine['product_type']=["Tunic"]

to_categorical(traine)
traine.product_details = traine.product_details.astype(str)

traine['product_details'] = traine['product_details'].apply(remove_digits)
traine['product_details'] = traine['product_details'].apply(remove_punctuation)
traine['product_details'] = traine['product_details'].apply(remove_stop_words)
traine['product_details'] = traine['product_details'].apply(to_lower)

traine['name'] = traine['name'].apply(remove_digits)
traine['name'] = traine['name'].apply(remove_punctuation)
traine['name'] = traine['name'].apply(remove_stop_words)
traine['name'] = traine['name'].apply(to_lower)

cv = CountVectorizer(min_df=10)
X_name = cv.fit_transform(traine['name'])

cv = CountVectorizer()
X_category = cv.fit_transform(traine['category'])

tv = TfidfVectorizer(max_features=55000, ngram_range=(1, 2), stop_words='english')
X_description = tv.fit_transform(traine['product_details'])

lb = LabelBinarizer(sparse_output=True)
X_brand = lb.fit_transform(traine['brand'])
X_size= lb.fit_transform(traine['size'])
X_material= lb.fit_transform(traine['material'])
X_color= lb.fit_transform(traine['color'])
X_protype= lb.fit_transform(traine['product_type'])

X_dummies = csr_matrix(pd.get_dummies(traine['shipping'], sparse=True).values)

sparse_merge = hstack((X_dummies, X_description, X_brand, X_category, X_name,X_size,X_color,X_material,X_protype)).tocsr()
preds = clf.predict(sparse_merge)
arr= np.expm1(preds)
print(arr)